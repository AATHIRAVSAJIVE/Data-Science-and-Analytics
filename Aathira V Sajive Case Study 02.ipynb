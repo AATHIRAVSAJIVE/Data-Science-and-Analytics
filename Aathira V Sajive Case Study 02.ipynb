{
 "cells": [
  {
   "cell_type": "markdown",
   "id": "ff7f82e6",
   "metadata": {},
   "source": [
    "## <font color = blue>Case Study on Regression"
   ]
  },
  {
   "cell_type": "markdown",
   "id": "725dfbd4",
   "metadata": {},
   "source": [
    "### Import the necessary libraries & Load the dataset into python environment :"
   ]
  },
  {
   "cell_type": "code",
   "execution_count": 1,
   "id": "59bdc6d6",
   "metadata": {},
   "outputs": [],
   "source": [
    "import numpy as np\n",
    "import pandas as pd\n",
    "import matplotlib.pyplot as plt\n",
    "import seaborn as sns \n",
    "from sklearn.preprocessing import StandardScaler\n",
    "from sklearn.model_selection import train_test_split\n",
    "from sklearn.linear_model import LinearRegression, Lasso\n",
    "from sklearn.metrics import mean_squared_error,r2_score"
   ]
  },
  {
   "cell_type": "code",
   "execution_count": 2,
   "id": "953a171e",
   "metadata": {},
   "outputs": [
    {
     "data": {
      "text/html": [
       "<div>\n",
       "<style scoped>\n",
       "    .dataframe tbody tr th:only-of-type {\n",
       "        vertical-align: middle;\n",
       "    }\n",
       "\n",
       "    .dataframe tbody tr th {\n",
       "        vertical-align: top;\n",
       "    }\n",
       "\n",
       "    .dataframe thead th {\n",
       "        text-align: right;\n",
       "    }\n",
       "</style>\n",
       "<table border=\"1\" class=\"dataframe\">\n",
       "  <thead>\n",
       "    <tr style=\"text-align: right;\">\n",
       "      <th></th>\n",
       "      <th>Year</th>\n",
       "      <th>Price</th>\n",
       "    </tr>\n",
       "  </thead>\n",
       "  <tbody>\n",
       "    <tr>\n",
       "      <th>0</th>\n",
       "      <td>2018</td>\n",
       "      <td>465000</td>\n",
       "    </tr>\n",
       "    <tr>\n",
       "      <th>1</th>\n",
       "      <td>2019</td>\n",
       "      <td>755000</td>\n",
       "    </tr>\n",
       "    <tr>\n",
       "      <th>2</th>\n",
       "      <td>2019</td>\n",
       "      <td>700000</td>\n",
       "    </tr>\n",
       "    <tr>\n",
       "      <th>3</th>\n",
       "      <td>2018</td>\n",
       "      <td>465000</td>\n",
       "    </tr>\n",
       "    <tr>\n",
       "      <th>4</th>\n",
       "      <td>2018</td>\n",
       "      <td>465000</td>\n",
       "    </tr>\n",
       "  </tbody>\n",
       "</table>\n",
       "</div>"
      ],
      "text/plain": [
       "   Year   Price\n",
       "0  2018  465000\n",
       "1  2019  755000\n",
       "2  2019  700000\n",
       "3  2018  465000\n",
       "4  2018  465000"
      ]
     },
     "execution_count": 2,
     "metadata": {},
     "output_type": "execute_result"
    }
   ],
   "source": [
    "data = pd.read_csv(r'C:\\Users\\sajee\\Downloads\\AATHIRA DSA\\car_age_price.csv') \n",
    "data.head()"
   ]
  },
  {
   "cell_type": "markdown",
   "id": "d52b5a41",
   "metadata": {},
   "source": [
    "### Perform data understanding and exploration:"
   ]
  },
  {
   "cell_type": "code",
   "execution_count": 3,
   "id": "befbebb8",
   "metadata": {},
   "outputs": [
    {
     "data": {
      "text/plain": [
       "(112, 2)"
      ]
     },
     "execution_count": 3,
     "metadata": {},
     "output_type": "execute_result"
    }
   ],
   "source": [
    "data.shape"
   ]
  },
  {
   "cell_type": "code",
   "execution_count": 4,
   "id": "789a2c88",
   "metadata": {},
   "outputs": [
    {
     "name": "stdout",
     "output_type": "stream",
     "text": [
      "<class 'pandas.core.frame.DataFrame'>\n",
      "RangeIndex: 112 entries, 0 to 111\n",
      "Data columns (total 2 columns):\n",
      " #   Column  Non-Null Count  Dtype\n",
      "---  ------  --------------  -----\n",
      " 0   Year    112 non-null    int64\n",
      " 1   Price   112 non-null    int64\n",
      "dtypes: int64(2)\n",
      "memory usage: 1.9 KB\n"
     ]
    }
   ],
   "source": [
    "data.info()"
   ]
  },
  {
   "cell_type": "code",
   "execution_count": 5,
   "id": "8d9fb5f7",
   "metadata": {},
   "outputs": [
    {
     "data": {
      "text/plain": [
       "Year     int64\n",
       "Price    int64\n",
       "dtype: object"
      ]
     },
     "execution_count": 5,
     "metadata": {},
     "output_type": "execute_result"
    }
   ],
   "source": [
    "data.dtypes"
   ]
  },
  {
   "cell_type": "code",
   "execution_count": 6,
   "id": "f05b717d",
   "metadata": {},
   "outputs": [
    {
     "data": {
      "text/html": [
       "<div>\n",
       "<style scoped>\n",
       "    .dataframe tbody tr th:only-of-type {\n",
       "        vertical-align: middle;\n",
       "    }\n",
       "\n",
       "    .dataframe tbody tr th {\n",
       "        vertical-align: top;\n",
       "    }\n",
       "\n",
       "    .dataframe thead th {\n",
       "        text-align: right;\n",
       "    }\n",
       "</style>\n",
       "<table border=\"1\" class=\"dataframe\">\n",
       "  <thead>\n",
       "    <tr style=\"text-align: right;\">\n",
       "      <th></th>\n",
       "      <th>Year</th>\n",
       "      <th>Price</th>\n",
       "    </tr>\n",
       "  </thead>\n",
       "  <tbody>\n",
       "    <tr>\n",
       "      <th>count</th>\n",
       "      <td>112.000000</td>\n",
       "      <td>112.000000</td>\n",
       "    </tr>\n",
       "    <tr>\n",
       "      <th>mean</th>\n",
       "      <td>2016.669643</td>\n",
       "      <td>483866.044643</td>\n",
       "    </tr>\n",
       "    <tr>\n",
       "      <th>std</th>\n",
       "      <td>1.629616</td>\n",
       "      <td>91217.450533</td>\n",
       "    </tr>\n",
       "    <tr>\n",
       "      <th>min</th>\n",
       "      <td>2013.000000</td>\n",
       "      <td>300000.000000</td>\n",
       "    </tr>\n",
       "    <tr>\n",
       "      <th>25%</th>\n",
       "      <td>2015.000000</td>\n",
       "      <td>423750.000000</td>\n",
       "    </tr>\n",
       "    <tr>\n",
       "      <th>50%</th>\n",
       "      <td>2017.000000</td>\n",
       "      <td>500000.000000</td>\n",
       "    </tr>\n",
       "    <tr>\n",
       "      <th>75%</th>\n",
       "      <td>2017.000000</td>\n",
       "      <td>550000.000000</td>\n",
       "    </tr>\n",
       "    <tr>\n",
       "      <th>max</th>\n",
       "      <td>2020.000000</td>\n",
       "      <td>755000.000000</td>\n",
       "    </tr>\n",
       "  </tbody>\n",
       "</table>\n",
       "</div>"
      ],
      "text/plain": [
       "              Year          Price\n",
       "count   112.000000     112.000000\n",
       "mean   2016.669643  483866.044643\n",
       "std       1.629616   91217.450533\n",
       "min    2013.000000  300000.000000\n",
       "25%    2015.000000  423750.000000\n",
       "50%    2017.000000  500000.000000\n",
       "75%    2017.000000  550000.000000\n",
       "max    2020.000000  755000.000000"
      ]
     },
     "execution_count": 6,
     "metadata": {},
     "output_type": "execute_result"
    }
   ],
   "source": [
    "data.describe()"
   ]
  },
  {
   "cell_type": "code",
   "execution_count": 7,
   "id": "37aa1451",
   "metadata": {},
   "outputs": [
    {
     "data": {
      "image/png": "[encoded data removed]",
      "text/plain": [
       "<Figure size 500x400 with 1 Axes>"
      ]
     },
     "metadata": {},
     "output_type": "display_data"
    }
   ],
   "source": [
    "# Explore the relationship between Year and Price using a scatter plot:\n",
    "\n",
    "plt.figure(figsize=(5, 4))  # Set the figure size\n",
    "plt.scatter(data['Year'], data['Price'])\n",
    "plt.xlabel('Year')\n",
    "plt.ylabel('Price')\n",
    "plt.title('Scatter Plot: Year vs Price')\n",
    "plt.show()"
   ]
  },
  {
   "cell_type": "markdown",
   "id": "e1e96940",
   "metadata": {},
   "source": [
    "### Perform data cleaning and outlier detection:"
   ]
  },
  {
   "cell_type": "code",
   "execution_count": 8,
   "id": "1294eafb",
   "metadata": {},
   "outputs": [
    {
     "data": {
      "text/plain": [
       "Year     0\n",
       "Price    0\n",
       "dtype: int64"
      ]
     },
     "execution_count": 8,
     "metadata": {},
     "output_type": "execute_result"
    }
   ],
   "source": [
    "# Check for missing values:\n",
    "\n",
    "data.isna().sum()"
   ]
  },
  {
   "cell_type": "code",
   "execution_count": 9,
   "id": "cc47ddd9",
   "metadata": {},
   "outputs": [
    {
     "data": {
      "image/png": "[encoded data removed]",
      "text/plain": [
       "<Figure size 400x300 with 1 Axes>"
      ]
     },
     "metadata": {},
     "output_type": "display_data"
    },
    {
     "data": {
      "image/png": "[encoded data removed]",
      "text/plain": [
       "<Figure size 400x300 with 1 Axes>"
      ]
     },
     "metadata": {},
     "output_type": "display_data"
    }
   ],
   "source": [
    "# Check for outliers:\n",
    "\n",
    "num_cols = ['Year', 'Price']\n",
    "\n",
    "for i in num_cols:\n",
    "    plt.figure(figsize=(4,3))\n",
    "    plt.boxplot(data[i])\n",
    "    plt.title(i)"
   ]
  },
  {
   "cell_type": "markdown",
   "id": "bf3d352b",
   "metadata": {},
   "source": [
    "### Create a Heatmap to Visualize the Correlation:"
   ]
  },
  {
   "cell_type": "code",
   "execution_count": 10,
   "id": "41c13cb3",
   "metadata": {},
   "outputs": [
    {
     "data": {
      "image/png": "[encoded data removed]",
      "text/plain": [
       "<Figure size 500x400 with 2 Axes>"
      ]
     },
     "metadata": {},
     "output_type": "display_data"
    }
   ],
   "source": [
    "corrmatrix = data.corr()\n",
    "plt.figure(figsize=(5, 4))\n",
    "sns.heatmap(corrmatrix,annot = True)\n",
    "plt.title('Correlation Heatmap')\n",
    "plt.show()"
   ]
  },
  {
   "cell_type": "markdown",
   "id": "020ef5d2",
   "metadata": {},
   "source": [
    "### Preprocess the Data and Perform Scaling: "
   ]
  },
  {
   "cell_type": "code",
   "execution_count": 11,
   "id": "5f4a82ab",
   "metadata": {},
   "outputs": [
    {
     "data": {
      "text/plain": [
       "Index(['Year', 'Price'], dtype='object')"
      ]
     },
     "execution_count": 11,
     "metadata": {},
     "output_type": "execute_result"
    }
   ],
   "source": [
    "data.columns "
   ]
  },
  {
   "cell_type": "code",
   "execution_count": 12,
   "id": "42e56490",
   "metadata": {},
   "outputs": [],
   "source": [
    "# Here,\"Year\" is the feature variable and the values represent consecutive years,\n",
    "# The magnitude itself does not impact the relationship with the price,\n",
    "# Therefore, we can directly use the \"Year\" feature as it is without scaling for regression in this scenario."
   ]
  },
  {
   "cell_type": "code",
   "execution_count": 13,
   "id": "4871dc67",
   "metadata": {},
   "outputs": [],
   "source": [
    "# Split the data into independent variable (year) and dependent variable (price):\n",
    "\n",
    "y = data ['Price']   # target variable\n",
    "X= data.drop(['Price'],axis = 1) # features"
   ]
  },
  {
   "cell_type": "code",
   "execution_count": 14,
   "id": "5a8c0f26",
   "metadata": {},
   "outputs": [],
   "source": [
    "# Split the scaled data into training and testing sets:\n",
    "\n",
    "X_train, X_test, y_train, y_test = train_test_split(X, y, test_size=0.25, random_state=42)"
   ]
  },
  {
   "cell_type": "code",
   "execution_count": 15,
   "id": "a0524776",
   "metadata": {},
   "outputs": [
    {
     "data": {
      "text/plain": [
       "(     Year\n",
       " 81   2014\n",
       " 77   2015\n",
       " 15   2017\n",
       " 30   2019\n",
       " 45   2018\n",
       " ..    ...\n",
       " 106  2015\n",
       " 14   2017\n",
       " 92   2017\n",
       " 51   2018\n",
       " 102  2015\n",
       " \n",
       " [84 rows x 1 columns],\n",
       "      Year\n",
       " 40   2019\n",
       " 65   2017\n",
       " 4    2018\n",
       " 47   2018\n",
       " 42   2018\n",
       " 69   2015\n",
       " 26   2017\n",
       " 11   2018\n",
       " 10   2019\n",
       " 44   2019\n",
       " 73   2013\n",
       " 55   2017\n",
       " 68   2015\n",
       " 97   2020\n",
       " 0    2018\n",
       " 18   2019\n",
       " 53   2013\n",
       " 80   2015\n",
       " 103  2017\n",
       " 91   2017\n",
       " 36   2017\n",
       " 12   2017\n",
       " 31   2017\n",
       " 66   2017\n",
       " 90   2017\n",
       " 62   2017\n",
       " 22   2015\n",
       " 85   2015)"
      ]
     },
     "execution_count": 15,
     "metadata": {},
     "output_type": "execute_result"
    }
   ],
   "source": [
    "# Display X_train, X_test:\n",
    "\n",
    "X_train, X_test"
   ]
  },
  {
   "cell_type": "code",
   "execution_count": 16,
   "id": "7e2fcada",
   "metadata": {},
   "outputs": [
    {
     "data": {
      "text/plain": [
       "(81     390000\n",
       " 77     325000\n",
       " 15     500000\n",
       " 30     650000\n",
       " 45     450000\n",
       "         ...  \n",
       " 106    300000\n",
       " 14     475000\n",
       " 92     520000\n",
       " 51     550000\n",
       " 102    350000\n",
       " Name: Price, Length: 84, dtype: int64,\n",
       " 40     525000\n",
       " 65     495000\n",
       " 4      465000\n",
       " 47     450000\n",
       " 42     550000\n",
       " 69     300000\n",
       " 26     550000\n",
       " 11     500000\n",
       " 10     500000\n",
       " 44     550000\n",
       " 73     320000\n",
       " 55     550000\n",
       " 68     465000\n",
       " 97     640000\n",
       " 0      465000\n",
       " 18     500000\n",
       " 53     345000\n",
       " 80     390000\n",
       " 103    375000\n",
       " 91     520000\n",
       " 36     550000\n",
       " 12     500000\n",
       " 31     550000\n",
       " 66     525000\n",
       " 90     520000\n",
       " 62     540000\n",
       " 22     434999\n",
       " 85     320000\n",
       " Name: Price, dtype: int64)"
      ]
     },
     "execution_count": 16,
     "metadata": {},
     "output_type": "execute_result"
    }
   ],
   "source": [
    "# Display y_train, y_test:\n",
    "\n",
    "y_train, y_test"
   ]
  },
  {
   "cell_type": "markdown",
   "id": "aaa74e79",
   "metadata": {},
   "source": [
    "### <font color = GREEN>Train and Evaluate the Linear Regression Model:"
   ]
  },
  {
   "cell_type": "code",
   "execution_count": 17,
   "id": "f714a046",
   "metadata": {},
   "outputs": [],
   "source": [
    "# Create and train the linear regression model:\n",
    "\n",
    "lr = LinearRegression()\n",
    "linear_model = lr.fit(X_train,y_train)"
   ]
  },
  {
   "cell_type": "code",
   "execution_count": 18,
   "id": "1d4026db",
   "metadata": {},
   "outputs": [],
   "source": [
    "# Make predictions on the test set:\n",
    "\n",
    "y_predict = linear_model.predict(X_test)"
   ]
  },
  {
   "cell_type": "code",
   "execution_count": 19,
   "id": "88783bfc",
   "metadata": {},
   "outputs": [
    {
     "data": {
      "text/plain": [
       "array([599223.07304104, 505265.04214995, 552244.05759549, 552244.05759549,\n",
       "       552244.05759549, 411307.01125886, 505265.04214995, 552244.05759549,\n",
       "       599223.07304104, 599223.07304104, 317348.98036776, 505265.04214995,\n",
       "       411307.01125886, 646202.08848657, 552244.05759549, 599223.07304104,\n",
       "       317348.98036776, 411307.01125886, 505265.04214995, 505265.04214995,\n",
       "       505265.04214995, 505265.04214995, 505265.04214995, 505265.04214995,\n",
       "       505265.04214995, 505265.04214995, 411307.01125886, 411307.01125886])"
      ]
     },
     "execution_count": 19,
     "metadata": {},
     "output_type": "execute_result"
    }
   ],
   "source": [
    "# Display y_predict:\n",
    "\n",
    "y_predict"
   ]
  },
  {
   "cell_type": "code",
   "execution_count": 20,
   "id": "d9e025d7",
   "metadata": {},
   "outputs": [
    {
     "data": {
      "text/plain": [
       "40     525000\n",
       "65     495000\n",
       "4      465000\n",
       "47     450000\n",
       "42     550000\n",
       "69     300000\n",
       "26     550000\n",
       "11     500000\n",
       "10     500000\n",
       "44     550000\n",
       "73     320000\n",
       "55     550000\n",
       "68     465000\n",
       "97     640000\n",
       "0      465000\n",
       "18     500000\n",
       "53     345000\n",
       "80     390000\n",
       "103    375000\n",
       "91     520000\n",
       "36     550000\n",
       "12     500000\n",
       "31     550000\n",
       "66     525000\n",
       "90     520000\n",
       "62     540000\n",
       "22     434999\n",
       "85     320000\n",
       "Name: Price, dtype: int64"
      ]
     },
     "execution_count": 20,
     "metadata": {},
     "output_type": "execute_result"
    }
   ],
   "source": [
    "# Display y_test:\n",
    "\n",
    "y_test"
   ]
  },
  {
   "cell_type": "markdown",
   "id": "cad46d56",
   "metadata": {},
   "source": [
    "### Calculate the Error  for Linear Regression:"
   ]
  },
  {
   "cell_type": "code",
   "execution_count": 21,
   "id": "07028bf4",
   "metadata": {},
   "outputs": [
    {
     "name": "stdout",
     "output_type": "stream",
     "text": [
      "3878767151.073449\n",
      "0.4347961632108023\n"
     ]
    }
   ],
   "source": [
    "# Calculate the mean squared error (MSE) and  R-squared error:\n",
    "\n",
    "linear_mse = mean_squared_error(y_test,y_predict)\n",
    "linear_r2 = r2_score(y_test,y_predict)\n",
    "\n",
    "print(linear_mse)\n",
    "print(linear_r2)"
   ]
  },
  {
   "cell_type": "markdown",
   "id": "0f7190b3",
   "metadata": {},
   "source": [
    "### <font color = GREEN> Train and Evaluate the Lasso Regression Model:"
   ]
  },
  {
   "cell_type": "code",
   "execution_count": 22,
   "id": "5ba708e8",
   "metadata": {},
   "outputs": [],
   "source": [
    "# Create and train the Lasso regression model:\n",
    "\n",
    "l = Lasso()\n",
    "lasso_model = l.fit(X_train, y_train)"
   ]
  },
  {
   "cell_type": "code",
   "execution_count": 23,
   "id": "89eeb2b8",
   "metadata": {},
   "outputs": [],
   "source": [
    "# Make predictions on the test set:\n",
    "\n",
    "y_predicted = lasso_model.predict(X_test)"
   ]
  },
  {
   "cell_type": "code",
   "execution_count": 24,
   "id": "5a32684b",
   "metadata": {},
   "outputs": [
    {
     "data": {
      "text/plain": [
       "array([599222.10828854, 505264.87581331, 552243.49205092, 552243.49205092,\n",
       "       552243.49205092, 411307.64333805, 505264.87581331, 552243.49205092,\n",
       "       599222.10828854, 599222.10828854, 317350.4108628 , 505264.87581331,\n",
       "       411307.64333805, 646200.72452617, 552243.49205092, 599222.10828854,\n",
       "       317350.4108628 , 411307.64333805, 505264.87581331, 505264.87581331,\n",
       "       505264.87581331, 505264.87581331, 505264.87581331, 505264.87581331,\n",
       "       505264.87581331, 505264.87581331, 411307.64333805, 411307.64333805])"
      ]
     },
     "execution_count": 24,
     "metadata": {},
     "output_type": "execute_result"
    }
   ],
   "source": [
    "# Display y_predicted:\n",
    "\n",
    "y_predicted"
   ]
  },
  {
   "cell_type": "code",
   "execution_count": 25,
   "id": "b7e5a7a8",
   "metadata": {},
   "outputs": [
    {
     "data": {
      "text/plain": [
       "40     525000\n",
       "65     495000\n",
       "4      465000\n",
       "47     450000\n",
       "42     550000\n",
       "69     300000\n",
       "26     550000\n",
       "11     500000\n",
       "10     500000\n",
       "44     550000\n",
       "73     320000\n",
       "55     550000\n",
       "68     465000\n",
       "97     640000\n",
       "0      465000\n",
       "18     500000\n",
       "53     345000\n",
       "80     390000\n",
       "103    375000\n",
       "91     520000\n",
       "36     550000\n",
       "12     500000\n",
       "31     550000\n",
       "66     525000\n",
       "90     520000\n",
       "62     540000\n",
       "22     434999\n",
       "85     320000\n",
       "Name: Price, dtype: int64"
      ]
     },
     "execution_count": 25,
     "metadata": {},
     "output_type": "execute_result"
    }
   ],
   "source": [
    "# Display y_test:\n",
    "\n",
    "y_test"
   ]
  },
  {
   "cell_type": "markdown",
   "id": "a9a6b15f",
   "metadata": {},
   "source": [
    "### Calculate the Error  for Lasso Regression Model:"
   ]
  },
  {
   "cell_type": "code",
   "execution_count": 26,
   "id": "a7170bff",
   "metadata": {},
   "outputs": [
    {
     "name": "stdout",
     "output_type": "stream",
     "text": [
      "3878735896.222091\n",
      "0.4348007175862566\n"
     ]
    }
   ],
   "source": [
    "# Calculate the mean squared error (MSE) and  R-squared error:\n",
    "\n",
    "lasso_mse = mean_squared_error(y_test,y_predicted)\n",
    "lasso_r2 = r2_score(y_test,y_predicted)\n",
    "\n",
    "print(lasso_mse)\n",
    "print(lasso_r2)"
   ]
  },
  {
   "cell_type": "markdown",
   "id": "875cfc65",
   "metadata": {},
   "source": [
    "### <font color = GREEN> Compare the performance of both Models."
   ]
  },
  {
   "cell_type": "code",
   "execution_count": 27,
   "id": "d362a0d6",
   "metadata": {},
   "outputs": [
    {
     "name": "stdout",
     "output_type": "stream",
     "text": [
      "Linear Regression MSE: 3878767151.073449\n",
      "Linear Regression R2 Score: 0.4347961632108023\n",
      "Lasso Regression MSE: 3878735896.222091\n",
      "Lasso Regression R2 Score: 0.4348007175862566\n"
     ]
    }
   ],
   "source": [
    "# Print the mean squared error (MSE) & R-squared error for both models:\n",
    "\n",
    "print(\"Linear Regression MSE:\", linear_mse)\n",
    "print(\"Linear Regression R2 Score:\", linear_r2)\n",
    "print(\"Lasso Regression MSE:\", lasso_mse)\n",
    "print(\"Lasso Regression R2 Score:\", lasso_r2)"
   ]
  },
  {
   "cell_type": "markdown",
   "id": "c23d6629",
   "metadata": {},
   "source": [
    "###### In terms of MSE, both Linear Regression and Lasso Regression models have similar values, indicating that they have similar prediction errors on the test set.When comparing the R2 score, which measures the proportion of the variance in the dependent variable explained by the independent variable(s), both models have similar scores.Overall,both Linear Regression and Lasso Regression models perform similarly in terms of prediction accuracy and explanatory power."
   ]
  },
  {
   "cell_type": "markdown",
   "id": "b1060a2c",
   "metadata": {},
   "source": [
    "### <font color = GREEN>Train the selected model using the entire dataset:"
   ]
  },
  {
   "cell_type": "code",
   "execution_count": 28,
   "id": "cf1a1a2a",
   "metadata": {},
   "outputs": [
    {
     "name": "stdout",
     "output_type": "stream",
     "text": [
      "Selected model: Lasso Regression\n"
     ]
    }
   ],
   "source": [
    "selected_model = linear_model if linear_mse < lasso_mse else lasso_model\n",
    "\n",
    "if selected_model == linear_model:\n",
    "    print(\"Selected model: Linear Regression\")\n",
    "else:\n",
    "    print(\"Selected model: Lasso Regression\")"
   ]
  },
  {
   "cell_type": "code",
   "execution_count": 29,
   "id": "76464317",
   "metadata": {},
   "outputs": [
    {
     "data": {
      "text/html": [
       "<style>#sk-container-id-1 {color: black;background-color: white;}#sk-container-id-1 pre{padding: 0;}#sk-container-id-1 div.sk-toggleable {background-color: white;}#sk-container-id-1 label.sk-toggleable__label {cursor: pointer;display: block;width: 100%;margin-bottom: 0;padding: 0.3em;box-sizing: border-box;text-align: center;}#sk-container-id-1 label.sk-toggleable__label-arrow:before {content: \"▸\";float: left;margin-right: 0.25em;color: #696969;}#sk-container-id-1 label.sk-toggleable__label-arrow:hover:before {color: black;}#sk-container-id-1 div.sk-estimator:hover label.sk-toggleable__label-arrow:before {color: black;}#sk-container-id-1 div.sk-toggleable__content {max-height: 0;max-width: 0;overflow: hidden;text-align: left;background-color: #f0f8ff;}#sk-container-id-1 div.sk-toggleable__content pre {margin: 0.2em;color: black;border-radius: 0.25em;background-color: #f0f8ff;}#sk-container-id-1 input.sk-toggleable__control:checked~div.sk-toggleable__content {max-height: 200px;max-width: 100%;overflow: auto;}#sk-container-id-1 input.sk-toggleable__control:checked~label.sk-toggleable__label-arrow:before {content: \"▾\";}#sk-container-id-1 div.sk-estimator input.sk-toggleable__control:checked~label.sk-toggleable__label {background-color: #d4ebff;}#sk-container-id-1 div.sk-label input.sk-toggleable__control:checked~label.sk-toggleable__label {background-color: #d4ebff;}#sk-container-id-1 input.sk-hidden--visually {border: 0;clip: rect(1px 1px 1px 1px);clip: rect(1px, 1px, 1px, 1px);height: 1px;margin: -1px;overflow: hidden;padding: 0;position: absolute;width: 1px;}#sk-container-id-1 div.sk-estimator {font-family: monospace;background-color: #f0f8ff;border: 1px dotted black;border-radius: 0.25em;box-sizing: border-box;margin-bottom: 0.5em;}#sk-container-id-1 div.sk-estimator:hover {background-color: #d4ebff;}#sk-container-id-1 div.sk-parallel-item::after {content: \"\";width: 100%;border-bottom: 1px solid gray;flex-grow: 1;}#sk-container-id-1 div.sk-label:hover label.sk-toggleable__label {background-color: #d4ebff;}#sk-container-id-1 div.sk-serial::before {content: \"\";position: absolute;border-left: 1px solid gray;box-sizing: border-box;top: 0;bottom: 0;left: 50%;z-index: 0;}#sk-container-id-1 div.sk-serial {display: flex;flex-direction: column;align-items: center;background-color: white;padding-right: 0.2em;padding-left: 0.2em;position: relative;}#sk-container-id-1 div.sk-item {position: relative;z-index: 1;}#sk-container-id-1 div.sk-parallel {display: flex;align-items: stretch;justify-content: center;background-color: white;position: relative;}#sk-container-id-1 div.sk-item::before, #sk-container-id-1 div.sk-parallel-item::before {content: \"\";position: absolute;border-left: 1px solid gray;box-sizing: border-box;top: 0;bottom: 0;left: 50%;z-index: -1;}#sk-container-id-1 div.sk-parallel-item {display: flex;flex-direction: column;z-index: 1;position: relative;background-color: white;}#sk-container-id-1 div.sk-parallel-item:first-child::after {align-self: flex-end;width: 50%;}#sk-container-id-1 div.sk-parallel-item:last-child::after {align-self: flex-start;width: 50%;}#sk-container-id-1 div.sk-parallel-item:only-child::after {width: 0;}#sk-container-id-1 div.sk-dashed-wrapped {border: 1px dashed gray;margin: 0 0.4em 0.5em 0.4em;box-sizing: border-box;padding-bottom: 0.4em;background-color: white;}#sk-container-id-1 div.sk-label label {font-family: monospace;font-weight: bold;display: inline-block;line-height: 1.2em;}#sk-container-id-1 div.sk-label-container {text-align: center;}#sk-container-id-1 div.sk-container {/* jupyter's `normalize.less` sets `[hidden] { display: none; }` but bootstrap.min.css set `[hidden] { display: none !important; }` so we also need the `!important` here to be able to override the default hidden behavior on the sphinx rendered scikit-learn.org. See: https://github.com/scikit-learn/scikit-learn/issues/21755 */display: inline-block !important;position: relative;}#sk-container-id-1 div.sk-text-repr-fallback {display: none;}</style><div id=\"sk-container-id-1\" class=\"sk-top-container\"><div class=\"sk-text-repr-fallback\"><pre>Lasso()</pre><b>In a Jupyter environment, please rerun this cell to show the HTML representation or trust the notebook. <br />On GitHub, the HTML representation is unable to render, please try loading this page with nbviewer.org.</b></div><div class=\"sk-container\" hidden><div class=\"sk-item\"><div class=\"sk-estimator sk-toggleable\"><input class=\"sk-toggleable__control sk-hidden--visually\" id=\"sk-estimator-id-1\" type=\"checkbox\" checked><label for=\"sk-estimator-id-1\" class=\"sk-toggleable__label sk-toggleable__label-arrow\">Lasso</label><div class=\"sk-toggleable__content\"><pre>Lasso()</pre></div></div></div></div></div>"
      ],
      "text/plain": [
       "Lasso()"
      ]
     },
     "execution_count": 29,
     "metadata": {},
     "output_type": "execute_result"
    }
   ],
   "source": [
    "selected_model.fit(X, y)"
   ]
  },
  {
   "cell_type": "markdown",
   "id": "3bacb7eb",
   "metadata": {},
   "source": [
    "### <font color = GREEN>Predict the price for the 2022 model:"
   ]
  },
  {
   "cell_type": "code",
   "execution_count": 30,
   "id": "62e66834",
   "metadata": {},
   "outputs": [],
   "source": [
    "import warnings\n",
    "warnings.filterwarnings(\"ignore\", category=UserWarning)"
   ]
  },
  {
   "cell_type": "code",
   "execution_count": 31,
   "id": "be32de51",
   "metadata": {},
   "outputs": [],
   "source": [
    "predicted_price_2022 = selected_model.predict([[2022]])"
   ]
  },
  {
   "cell_type": "code",
   "execution_count": 32,
   "id": "d218d4a7",
   "metadata": {
    "scrolled": true
   },
   "outputs": [
    {
     "name": "stdout",
     "output_type": "stream",
     "text": [
      "Predicted price of a 2022 model second-hand Grand i10 is Rupees: 715486.0532485098\n"
     ]
    }
   ],
   "source": [
    "print(\"Predicted price of a 2022 model second-hand Grand i10 is Rupees:\", predicted_price_2022[0])"
   ]
  },
  {
   "cell_type": "markdown",
   "id": "1ae9a6ca",
   "metadata": {},
   "source": [
    "### Visualization of predicted price for 2022 and the regression line:"
   ]
  },
  {
   "cell_type": "code",
   "execution_count": 33,
   "id": "79e8ffd2",
   "metadata": {},
   "outputs": [
    {
     "data": {
      "image/png": "[encoded data removed]",
      "text/plain": [
       "<Figure size 640x480 with 1 Axes>"
      ]
     },
     "metadata": {},
     "output_type": "display_data"
    }
   ],
   "source": [
    "# Plot the scatter plot of \"Year\" vs \"Price\"\n",
    "plt.scatter(X, y, label=\"Actual Data\")\n",
    "\n",
    "# Plot the regression line\n",
    "plt.plot(X, selected_model.predict(X), color='green', label=\"Regression Line\")\n",
    "\n",
    "# Predict the price for the year 2022\n",
    "year_2022 = [[2022]]\n",
    "predicted_price_2022 = selected_model.predict(year_2022)\n",
    "\n",
    "# Plot the predicted price for 2022 as a separate point\n",
    "plt.scatter(year_2022, predicted_price_2022, color='red', label=\"Predicted Price 2022\")\n",
    "\n",
    "# Extend the regression line to the predicted price for 2022\n",
    "X_min = X.min().values\n",
    "X_2022 = year_2022[0]\n",
    "y_min = selected_model.predict(X_min.reshape(-1, 1))\n",
    "y_2022 = predicted_price_2022\n",
    "plt.plot([X_min, X_2022], [y_min, y_2022], color='green', linestyle='--', label=\"Prediction Line 2022\")\n",
    "\n",
    "plt.xlabel(\"Year\")\n",
    "plt.ylabel(\"Price\")\n",
    "plt.title(\"Regression Line: Year vs Price\")\n",
    "plt.legend()\n",
    "plt.show()"
   ]
  },
  {
   "cell_type": "markdown",
   "id": "8b9c63b8",
   "metadata": {},
   "source": [
    "#### <font color = magenta>Predicted price of a 2022 model second-hand Grand i10 is around Seven Lakh Fifteen Thousand Rupees Only"
   ]
  },
  {
   "cell_type": "code",
   "execution_count": null,
   "id": "ff89535a",
   "metadata": {},
   "outputs": [],
   "source": []
  }
 ],
 "metadata": {
  "kernelspec": {
   "display_name": "Python 3 (ipykernel)",
   "language": "python",
   "name": "python3"
  },
  "language_info": {
   "codemirror_mode": {
    "name": "ipython",
    "version": 3
   },
   "file_extension": ".py",
   "mimetype": "text/x-python",
   "name": "python",
   "nbconvert_exporter": "python",
   "pygments_lexer": "ipython3",
   "version": "3.10.9"
  }
 },
 "nbformat": 4,
 "nbformat_minor": 5
}
