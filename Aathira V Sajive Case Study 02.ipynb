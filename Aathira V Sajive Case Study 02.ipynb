{
 "cells": [
  {
   "cell_type": "markdown",
   "id": "8d5d7a3c",
   "metadata": {},
   "source": [
    "## <font color = blue>Case Study on Regression"
   ]
  },
  {
   "cell_type": "markdown",
   "id": "3717ed1e",
   "metadata": {},
   "source": [
    "### Import the necessary libraries & Load the dataset into python environment :"
   ]
  },
  {
   "cell_type": "code",
   "execution_count": 1,
   "id": "240dc132",
   "metadata": {},
   "outputs": [],
   "source": [
    "import numpy as np\n",
    "import pandas as pd\n",
    "import matplotlib.pyplot as plt\n",
    "import seaborn as sns \n",
    "from sklearn.preprocessing import StandardScaler\n",
    "from sklearn.preprocessing import MinMaxScaler\n",
    "from sklearn.model_selection import train_test_split\n",
    "from sklearn.linear_model import LinearRegression, Lasso\n",
    "from sklearn.metrics import mean_squared_error,r2_score"
   ]
  },
  {
   "cell_type": "code",
   "execution_count": 2,
   "id": "1667b2f9",
   "metadata": {},
   "outputs": [
    {
     "data": {
      "text/html": [
       "<div>\n",
       "<style scoped>\n",
       "    .dataframe tbody tr th:only-of-type {\n",
       "        vertical-align: middle;\n",
       "    }\n",
       "\n",
       "    .dataframe tbody tr th {\n",
       "        vertical-align: top;\n",
       "    }\n",
       "\n",
       "    .dataframe thead th {\n",
       "        text-align: right;\n",
       "    }\n",
       "</style>\n",
       "<table border=\"1\" class=\"dataframe\">\n",
       "  <thead>\n",
       "    <tr style=\"text-align: right;\">\n",
       "      <th></th>\n",
       "      <th>Year</th>\n",
       "      <th>Price</th>\n",
       "    </tr>\n",
       "  </thead>\n",
       "  <tbody>\n",
       "    <tr>\n",
       "      <th>0</th>\n",
       "      <td>2018</td>\n",
       "      <td>465000</td>\n",
       "    </tr>\n",
       "    <tr>\n",
       "      <th>1</th>\n",
       "      <td>2019</td>\n",
       "      <td>755000</td>\n",
       "    </tr>\n",
       "    <tr>\n",
       "      <th>2</th>\n",
       "      <td>2019</td>\n",
       "      <td>700000</td>\n",
       "    </tr>\n",
       "    <tr>\n",
       "      <th>3</th>\n",
       "      <td>2018</td>\n",
       "      <td>465000</td>\n",
       "    </tr>\n",
       "    <tr>\n",
       "      <th>4</th>\n",
       "      <td>2018</td>\n",
       "      <td>465000</td>\n",
       "    </tr>\n",
       "  </tbody>\n",
       "</table>\n",
       "</div>"
      ],
      "text/plain": [
       "   Year   Price\n",
       "0  2018  465000\n",
       "1  2019  755000\n",
       "2  2019  700000\n",
       "3  2018  465000\n",
       "4  2018  465000"
      ]
     },
     "execution_count": 2,
     "metadata": {},
     "output_type": "execute_result"
    }
   ],
   "source": [
    "data = pd.read_csv(r'C:\\Users\\sajee\\Downloads\\AATHIRA DSA\\car_age_price.csv') \n",
    "data.head()"
   ]
  },
  {
   "cell_type": "markdown",
   "id": "2f534d9d",
   "metadata": {},
   "source": [
    "### Perform data understanding and exploration:"
   ]
  },
  {
   "cell_type": "code",
   "execution_count": 3,
   "id": "f85f6199",
   "metadata": {},
   "outputs": [
    {
     "data": {
      "text/plain": [
       "(112, 2)"
      ]
     },
     "execution_count": 3,
     "metadata": {},
     "output_type": "execute_result"
    }
   ],
   "source": [
    "data.shape"
   ]
  },
  {
   "cell_type": "code",
   "execution_count": 4,
   "id": "6145ed82",
   "metadata": {},
   "outputs": [
    {
     "name": "stdout",
     "output_type": "stream",
     "text": [
      "<class 'pandas.core.frame.DataFrame'>\n",
      "RangeIndex: 112 entries, 0 to 111\n",
      "Data columns (total 2 columns):\n",
      " #   Column  Non-Null Count  Dtype\n",
      "---  ------  --------------  -----\n",
      " 0   Year    112 non-null    int64\n",
      " 1   Price   112 non-null    int64\n",
      "dtypes: int64(2)\n",
      "memory usage: 1.9 KB\n"
     ]
    }
   ],
   "source": [
    "data.info()"
   ]
  },
  {
   "cell_type": "code",
   "execution_count": 5,
   "id": "c1eb1a0f",
   "metadata": {},
   "outputs": [
    {
     "data": {
      "text/plain": [
       "Year     int64\n",
       "Price    int64\n",
       "dtype: object"
      ]
     },
     "execution_count": 5,
     "metadata": {},
     "output_type": "execute_result"
    }
   ],
   "source": [
    "data.dtypes"
   ]
  },
  {
   "cell_type": "code",
   "execution_count": 6,
   "id": "9abeccfc",
   "metadata": {},
   "outputs": [
    {
     "data": {
      "text/html": [
       "<div>\n",
       "<style scoped>\n",
       "    .dataframe tbody tr th:only-of-type {\n",
       "        vertical-align: middle;\n",
       "    }\n",
       "\n",
       "    .dataframe tbody tr th {\n",
       "        vertical-align: top;\n",
       "    }\n",
       "\n",
       "    .dataframe thead th {\n",
       "        text-align: right;\n",
       "    }\n",
       "</style>\n",
       "<table border=\"1\" class=\"dataframe\">\n",
       "  <thead>\n",
       "    <tr style=\"text-align: right;\">\n",
       "      <th></th>\n",
       "      <th>Year</th>\n",
       "      <th>Price</th>\n",
       "    </tr>\n",
       "  </thead>\n",
       "  <tbody>\n",
       "    <tr>\n",
       "      <th>count</th>\n",
       "      <td>112.000000</td>\n",
       "      <td>112.000000</td>\n",
       "    </tr>\n",
       "    <tr>\n",
       "      <th>mean</th>\n",
       "      <td>2016.669643</td>\n",
       "      <td>483866.044643</td>\n",
       "    </tr>\n",
       "    <tr>\n",
       "      <th>std</th>\n",
       "      <td>1.629616</td>\n",
       "      <td>91217.450533</td>\n",
       "    </tr>\n",
       "    <tr>\n",
       "      <th>min</th>\n",
       "      <td>2013.000000</td>\n",
       "      <td>300000.000000</td>\n",
       "    </tr>\n",
       "    <tr>\n",
       "      <th>25%</th>\n",
       "      <td>2015.000000</td>\n",
       "      <td>423750.000000</td>\n",
       "    </tr>\n",
       "    <tr>\n",
       "      <th>50%</th>\n",
       "      <td>2017.000000</td>\n",
       "      <td>500000.000000</td>\n",
       "    </tr>\n",
       "    <tr>\n",
       "      <th>75%</th>\n",
       "      <td>2017.000000</td>\n",
       "      <td>550000.000000</td>\n",
       "    </tr>\n",
       "    <tr>\n",
       "      <th>max</th>\n",
       "      <td>2020.000000</td>\n",
       "      <td>755000.000000</td>\n",
       "    </tr>\n",
       "  </tbody>\n",
       "</table>\n",
       "</div>"
      ],
      "text/plain": [
       "              Year          Price\n",
       "count   112.000000     112.000000\n",
       "mean   2016.669643  483866.044643\n",
       "std       1.629616   91217.450533\n",
       "min    2013.000000  300000.000000\n",
       "25%    2015.000000  423750.000000\n",
       "50%    2017.000000  500000.000000\n",
       "75%    2017.000000  550000.000000\n",
       "max    2020.000000  755000.000000"
      ]
     },
     "execution_count": 6,
     "metadata": {},
     "output_type": "execute_result"
    }
   ],
   "source": [
    "data.describe()"
   ]
  },
  {
   "cell_type": "code",
   "execution_count": 7,
   "id": "62e284f2",
   "metadata": {},
   "outputs": [
    {
     "data": {
      "image/png": "[encoded data removed]",
      "text/plain": [
       "<Figure size 500x400 with 1 Axes>"
      ]
     },
     "metadata": {},
     "output_type": "display_data"
    }
   ],
   "source": [
    "# Explore the relationship between Year and Price using a scatter plot:\n",
    "\n",
    "plt.figure(figsize=(5, 4))  # Set the figure size\n",
    "plt.scatter(data['Year'], data['Price'])\n",
    "plt.xlabel('Year')\n",
    "plt.ylabel('Price')\n",
    "plt.title('Scatter Plot: Year vs Price')\n",
    "plt.show()"
   ]
  },
  {
   "cell_type": "markdown",
   "id": "1d499374",
   "metadata": {},
   "source": [
    "### Perform data cleaning and outlier detection:"
   ]
  },
  {
   "cell_type": "code",
   "execution_count": 8,
   "id": "c55bce56",
   "metadata": {},
   "outputs": [
    {
     "data": {
      "text/plain": [
       "Year     0\n",
       "Price    0\n",
       "dtype: int64"
      ]
     },
     "execution_count": 8,
     "metadata": {},
     "output_type": "execute_result"
    }
   ],
   "source": [
    "# Check for missing values:\n",
    "\n",
    "data.isna().sum()"
   ]
  },
  {
   "cell_type": "code",
   "execution_count": 9,
   "id": "8a51b324",
   "metadata": {},
   "outputs": [
    {
     "data": {
      "image/png": "[encoded data removed]",
      "text/plain": [
       "<Figure size 400x300 with 1 Axes>"
      ]
     },
     "metadata": {},
     "output_type": "display_data"
    },
    {
     "data": {
      "image/png": "[encoded data removed]",
      "text/plain": [
       "<Figure size 400x300 with 1 Axes>"
      ]
     },
     "metadata": {},
     "output_type": "display_data"
    }
   ],
   "source": [
    "# Check for outliers:\n",
    "\n",
    "num_cols = ['Year', 'Price']\n",
    "\n",
    "for i in num_cols:\n",
    "    plt.figure(figsize=(4,3))\n",
    "    plt.boxplot(data[i])\n",
    "    plt.title(i)"
   ]
  },
  {
   "cell_type": "markdown",
   "id": "5587e45f",
   "metadata": {},
   "source": [
    "### Create a Heatmap to Visualize the Correlation:"
   ]
  },
  {
   "cell_type": "code",
   "execution_count": 10,
   "id": "2dd0198f",
   "metadata": {},
   "outputs": [
    {
     "data": {
      "image/png": "[encoded data removed]",
      "text/plain": [
       "<Figure size 500x400 with 2 Axes>"
      ]
     },
     "metadata": {},
     "output_type": "display_data"
    }
   ],
   "source": [
    "corrmatrix = data.corr()\n",
    "plt.figure(figsize=(5, 4))\n",
    "sns.heatmap(corrmatrix,annot = True)\n",
    "plt.title('Correlation Heatmap')\n",
    "plt.show()"
   ]
  },
  {
   "cell_type": "markdown",
   "id": "92cc8880",
   "metadata": {},
   "source": [
    "### Preprocess the Data and Perform Scaling: "
   ]
  },
  {
   "cell_type": "code",
   "execution_count": 11,
   "id": "3237860d",
   "metadata": {},
   "outputs": [
    {
     "data": {
      "text/plain": [
       "Index(['Year', 'Price'], dtype='object')"
      ]
     },
     "execution_count": 11,
     "metadata": {},
     "output_type": "execute_result"
    }
   ],
   "source": [
    "data.columns "
   ]
  },
  {
   "cell_type": "code",
   "execution_count": 12,
   "id": "93504f12",
   "metadata": {},
   "outputs": [],
   "source": [
    "# Here,\"Year\" is the feature variable and the values represent consecutive years,\n",
    "# The magnitude itself does not impact the relationship with the price,\n",
    "# Therefore, we can directly use the \"Year\" feature as it is without scaling for regression in this scenario."
   ]
  },
  {
   "cell_type": "code",
   "execution_count": 13,
   "id": "72358206",
   "metadata": {},
   "outputs": [],
   "source": [
    "# Split the data into independent variable (year) and dependent variable (price):\n",
    "\n",
    "y = data ['Price']   # target variable\n",
    "X= data.drop(['Price'],axis = 1) # features"
   ]
  },
  {
   "cell_type": "code",
   "execution_count": 14,
   "id": "3753b0fd",
   "metadata": {},
   "outputs": [],
   "source": [
    "# Split the scaled data into training and testing sets:\n",
    "\n",
    "X_train, X_test, y_train, y_test = train_test_split(X, y, test_size=0.25, random_state=42)"
   ]
  },
  {
   "cell_type": "code",
   "execution_count": 15,
   "id": "058a3151",
   "metadata": {},
   "outputs": [
    {
     "name": "stdout",
     "output_type": "stream",
     "text": [
      "X_train\n",
      "     Year\n",
      "81  2014\n",
      "77  2015\n",
      "15  2017\n",
      "30  2019\n",
      "45  2018\n",
      "X_test\n",
      "     Year\n",
      "40  2019\n",
      "65  2017\n",
      "4   2018\n",
      "47  2018\n",
      "42  2018\n"
     ]
    }
   ],
   "source": [
    "# Display X_train, X_test:\n",
    "\n",
    "print('X_train\\n' , X_train.head())\n",
    "print('X_test\\n' , X_test.head())"
   ]
  },
  {
   "cell_type": "code",
   "execution_count": 16,
   "id": "373a9f39",
   "metadata": {},
   "outputs": [
    {
     "name": "stdout",
     "output_type": "stream",
     "text": [
      "y_train\n",
      " 81    390000\n",
      "77    325000\n",
      "15    500000\n",
      "30    650000\n",
      "45    450000\n",
      "Name: Price, dtype: int64\n",
      "y_test\n",
      " 40    525000\n",
      "65    495000\n",
      "4     465000\n",
      "47    450000\n",
      "42    550000\n",
      "Name: Price, dtype: int64\n"
     ]
    }
   ],
   "source": [
    "# Display y_train, y_test:\n",
    "\n",
    "print('y_train\\n' , y_train.head())\n",
    "print('y_test\\n' , y_test.head())"
   ]
  },
  {
   "cell_type": "markdown",
   "id": "dc037a59",
   "metadata": {},
   "source": [
    "### <font color = GREEN>Train and Evaluate the Linear Regression Model:"
   ]
  },
  {
   "cell_type": "code",
   "execution_count": 17,
   "id": "77c488bf",
   "metadata": {},
   "outputs": [],
   "source": [
    "# Create and train the linear regression model:\n",
    "\n",
    "lr = LinearRegression()\n",
    "linear_model = lr.fit(X_train,y_train)"
   ]
  },
  {
   "cell_type": "code",
   "execution_count": 18,
   "id": "0d37dd8d",
   "metadata": {},
   "outputs": [],
   "source": [
    "# Make predictions on the test set:\n",
    "\n",
    "y_predict_linear = linear_model.predict(X_test)"
   ]
  },
  {
   "cell_type": "code",
   "execution_count": 19,
   "id": "82efe7b1",
   "metadata": {},
   "outputs": [
    {
     "name": "stdout",
     "output_type": "stream",
     "text": [
      "y_predict_linear:\n",
      " [599223.07304104 505265.04214995 552244.05759549 552244.05759549\n",
      " 552244.05759549 411307.01125886 505265.04214995 552244.05759549\n",
      " 599223.07304104 599223.07304104 317348.98036776 505265.04214995\n",
      " 411307.01125886 646202.08848657 552244.05759549 599223.07304104\n",
      " 317348.98036776 411307.01125886 505265.04214995 505265.04214995\n",
      " 505265.04214995 505265.04214995 505265.04214995 505265.04214995\n",
      " 505265.04214995 505265.04214995 411307.01125886 411307.01125886]\n"
     ]
    }
   ],
   "source": [
    "# Display y_predict:\n",
    "\n",
    "print('y_predict_linear:\\n', y_predict_linear)"
   ]
  },
  {
   "cell_type": "markdown",
   "id": "16a98007",
   "metadata": {},
   "source": [
    "### Calculate the Error  for Linear Regression:"
   ]
  },
  {
   "cell_type": "code",
   "execution_count": 20,
   "id": "69ce6a13",
   "metadata": {},
   "outputs": [
    {
     "name": "stdout",
     "output_type": "stream",
     "text": [
      "3878767151.073449\n",
      "0.4347961632108023\n"
     ]
    }
   ],
   "source": [
    "# Calculate the mean squared error (MSE) and  R-squared error:\n",
    "\n",
    "linear_mse = mean_squared_error(y_test,y_predict_linear)\n",
    "linear_r2 = r2_score(y_test,y_predict_linear)\n",
    "\n",
    "print(linear_mse)\n",
    "print(linear_r2)"
   ]
  },
  {
   "cell_type": "markdown",
   "id": "3bd1f493",
   "metadata": {},
   "source": [
    "### <font color = GREEN> Train and Evaluate the Lasso Regression Model:"
   ]
  },
  {
   "cell_type": "code",
   "execution_count": 21,
   "id": "6873011f",
   "metadata": {},
   "outputs": [],
   "source": [
    "# Create and train the Lasso regression model:\n",
    "\n",
    "l = Lasso()\n",
    "lasso_model = l.fit(X_train, y_train)"
   ]
  },
  {
   "cell_type": "code",
   "execution_count": 22,
   "id": "2eaec37b",
   "metadata": {},
   "outputs": [],
   "source": [
    "# Make predictions on the test set:\n",
    "\n",
    "y_predict_lasso = lasso_model.predict(X_test)"
   ]
  },
  {
   "cell_type": "code",
   "execution_count": 23,
   "id": "5194abcd",
   "metadata": {},
   "outputs": [
    {
     "data": {
      "text/plain": [
       "array([599222.10828854, 505264.87581331, 552243.49205092, 552243.49205092,\n",
       "       552243.49205092, 411307.64333805, 505264.87581331, 552243.49205092,\n",
       "       599222.10828854, 599222.10828854, 317350.4108628 , 505264.87581331,\n",
       "       411307.64333805, 646200.72452617, 552243.49205092, 599222.10828854,\n",
       "       317350.4108628 , 411307.64333805, 505264.87581331, 505264.87581331,\n",
       "       505264.87581331, 505264.87581331, 505264.87581331, 505264.87581331,\n",
       "       505264.87581331, 505264.87581331, 411307.64333805, 411307.64333805])"
      ]
     },
     "execution_count": 23,
     "metadata": {},
     "output_type": "execute_result"
    }
   ],
   "source": [
    "# Display y_predicted:\n",
    "\n",
    "y_predict_lasso"
   ]
  },
  {
   "cell_type": "markdown",
   "id": "295b2214",
   "metadata": {},
   "source": [
    "### Calculate the Error  for Lasso Regression Model:"
   ]
  },
  {
   "cell_type": "code",
   "execution_count": 24,
   "id": "c199d1a4",
   "metadata": {},
   "outputs": [
    {
     "name": "stdout",
     "output_type": "stream",
     "text": [
      "3878735896.222091\n",
      "0.4348007175862566\n"
     ]
    }
   ],
   "source": [
    "# Calculate the mean squared error (MSE) and  R-squared error:\n",
    "\n",
    "lasso_mse = mean_squared_error(y_test,y_predict_lasso)\n",
    "lasso_r2 = r2_score(y_test,y_predict_lasso)\n",
    "\n",
    "print(lasso_mse)\n",
    "print(lasso_r2)"
   ]
  },
  {
   "cell_type": "markdown",
   "id": "d253c01e",
   "metadata": {},
   "source": [
    "### <font color = GREEN> Compare the performance of both models & Evaluate the models:"
   ]
  },
  {
   "cell_type": "code",
   "execution_count": 25,
   "id": "c2911491",
   "metadata": {},
   "outputs": [
    {
     "name": "stdout",
     "output_type": "stream",
     "text": [
      "Linear Regression MSE: 3878767151.073449\n",
      "Linear Regression R2 Score: 0.4347961632108023\n",
      "Lasso Regression MSE: 3878735896.222091\n",
      "Lasso Regression R2 Score: 0.4348007175862566\n"
     ]
    }
   ],
   "source": [
    "# Print the mean squared error (MSE) & R-squared error for both models:\n",
    "\n",
    "print(\"Linear Regression MSE:\", linear_mse)\n",
    "print(\"Linear Regression R2 Score:\", linear_r2)\n",
    "print(\"Lasso Regression MSE:\", lasso_mse)\n",
    "print(\"Lasso Regression R2 Score:\", lasso_r2)"
   ]
  },
  {
   "cell_type": "markdown",
   "id": "199d7fa9",
   "metadata": {},
   "source": [
    "###### In terms of MSE, both Linear Regression and Lasso Regression models have similar values, indicating that they have similar prediction errors on the test set.When comparing the R2 score, which measures the proportion of the variance in the dependent variable explained by the independent variable(s), both models have similar scores.Overall,both Linear Regression and Lasso Regression models perform similarly in terms of prediction accuracy and explanatory power."
   ]
  },
  {
   "cell_type": "markdown",
   "id": "70694873",
   "metadata": {},
   "source": [
    "### Create Model:"
   ]
  },
  {
   "cell_type": "code",
   "execution_count": 26,
   "id": "8147fc33",
   "metadata": {},
   "outputs": [
    {
     "name": "stdout",
     "output_type": "stream",
     "text": [
      "Selected model : Lasso regression \n"
     ]
    }
   ],
   "source": [
    "if linear_mse < lasso_mse and linear_r2 > lasso_r2:\n",
    "    selected_model = linear_model\n",
    "    print(\"Selected model : Linear regression\")\n",
    "elif lasso_mse < linear_mse and lasso_r2 > linear_r2:\n",
    "    selected_model = lasso_model\n",
    "    print(\"Selected model : Lasso regression \")\n",
    "else:\n",
    "    print(\"Both models have similar performance.\")"
   ]
  },
  {
   "cell_type": "markdown",
   "id": "179f5eed",
   "metadata": {},
   "source": [
    "### <font color = GREEN>Predict the price for the 2022 model:"
   ]
  },
  {
   "cell_type": "code",
   "execution_count": 27,
   "id": "3166dff9",
   "metadata": {},
   "outputs": [],
   "source": [
    "import warnings\n",
    "warnings.filterwarnings(\"ignore\", category=UserWarning)"
   ]
  },
  {
   "cell_type": "code",
   "execution_count": 28,
   "id": "1f2093c4",
   "metadata": {},
   "outputs": [],
   "source": [
    "predicted_price_2022 = selected_model.predict([[2022]])"
   ]
  },
  {
   "cell_type": "code",
   "execution_count": 29,
   "id": "c12570f8",
   "metadata": {
    "scrolled": true
   },
   "outputs": [
    {
     "name": "stdout",
     "output_type": "stream",
     "text": [
      "Predicted price of a 2022 model second-hand Grand i10 is Rupees: 740157.9570014179\n"
     ]
    }
   ],
   "source": [
    "print(\"Predicted price of a 2022 model second-hand Grand i10 is Rupees:\", predicted_price_2022[0])"
   ]
  },
  {
   "cell_type": "markdown",
   "id": "b17d1aef",
   "metadata": {},
   "source": [
    "### Visualization of predicted price for 2022 and the regression line:"
   ]
  },
  {
   "cell_type": "code",
   "execution_count": 30,
   "id": "a525da54",
   "metadata": {},
   "outputs": [
    {
     "data": {
      "image/png": "[encoded data removed]",
      "text/plain": [
       "<Figure size 640x480 with 1 Axes>"
      ]
     },
     "metadata": {},
     "output_type": "display_data"
    }
   ],
   "source": [
    "# Plot the scatter plot of \"Year\" vs \"Price\"\n",
    "plt.scatter(X, y, label=\"Actual Data\")\n",
    "\n",
    "# Plot the regression line\n",
    "plt.plot(X, selected_model.predict(X), color='green', label=\"Regression Line\")\n",
    "\n",
    "# Predict the price for the year 2022\n",
    "year_2022 = [[2022]]\n",
    "predicted_price_2022 = selected_model.predict(year_2022)\n",
    "\n",
    "# Plot the predicted price for 2022 as a separate point\n",
    "plt.scatter(year_2022, predicted_price_2022, color='red', label=\"Predicted Price 2022\")\n",
    "\n",
    "# Extend the regression line to the predicted price for 2022\n",
    "X_min = X.min().values\n",
    "X_2022 = year_2022[0]\n",
    "y_min = selected_model.predict(X_min.reshape(-1, 1))\n",
    "y_2022 = predicted_price_2022\n",
    "plt.plot([X_min, X_2022], [y_min, y_2022], color='green', linestyle='--', label=\"Prediction Line 2022\")\n",
    "\n",
    "plt.xlabel(\"Year\")\n",
    "plt.ylabel(\"Price\")\n",
    "plt.title(\"Regression Line: Year vs Price\")\n",
    "plt.legend()\n",
    "plt.show()"
   ]
  },
  {
   "cell_type": "markdown",
   "id": "648a93fc",
   "metadata": {},
   "source": [
    "#### <font color = magenta>Predicted price of a 2022 model second-hand Grand i10 is around Seven Lakh Forty Thousand Rupees only"
   ]
  },
  {
   "cell_type": "code",
   "execution_count": null,
   "id": "b1579192",
   "metadata": {},
   "outputs": [],
   "source": []
  }
 ],
 "metadata": {
  "kernelspec": {
   "display_name": "Python 3 (ipykernel)",
   "language": "python",
   "name": "python3"
  },
  "language_info": {
   "codemirror_mode": {
    "name": "ipython",
    "version": 3
   },
   "file_extension": ".py",
   "mimetype": "text/x-python",
   "name": "python",
   "nbconvert_exporter": "python",
   "pygments_lexer": "ipython3",
   "version": "3.10.9"
  }
 },
 "nbformat": 4,
 "nbformat_minor": 5
}
