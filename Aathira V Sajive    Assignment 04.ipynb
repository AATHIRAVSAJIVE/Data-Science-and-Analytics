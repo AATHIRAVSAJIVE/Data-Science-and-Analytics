{
 "cells": [
  {
   "cell_type": "markdown",
   "id": "f6b44d58",
   "metadata": {},
   "source": [
    "## Assignment on Preprocessing "
   ]
  },
  {
   "cell_type": "markdown",
   "id": "73bcafa3",
   "metadata": {},
   "source": [
    "### Import the necessary libraries:"
   ]
  },
  {
   "cell_type": "code",
   "execution_count": null,
   "id": "128f8173",
   "metadata": {},
   "outputs": [],
   "source": [
    "import numpy as np\n",
    "import pandas as pd\n",
    "import matplotlib.pyplot as plt\n",
    "import seaborn as sns "
   ]
  },
  {
   "cell_type": "markdown",
   "id": "c05e768f",
   "metadata": {},
   "source": [
    "### Load the dataset into python environment"
   ]
  },
  {
   "cell_type": "code",
   "execution_count": null,
   "id": "f48aa834",
   "metadata": {},
   "outputs": [],
   "source": [
    "data0 = pd.read_csv(r'C:\\Users\\sajee\\Downloads\\AATHIRA DSA\\titanic_dataset.csv')  \n",
    "data0.head()"
   ]
  },
  {
   "cell_type": "markdown",
   "id": "991ff3ef",
   "metadata": {},
   "source": [
    "### Make ‘PassengerId’ as the index column"
   ]
  },
  {
   "cell_type": "code",
   "execution_count": null,
   "id": "eb425d5c",
   "metadata": {},
   "outputs": [],
   "source": [
    "data1 = pd.read_csv(r'C:\\Users\\sajee\\Downloads\\AATHIRA DSA\\titanic_dataset.csv', index_col='PassengerId')\n",
    "data1.head()"
   ]
  },
  {
   "cell_type": "markdown",
   "id": "7f9f65d1",
   "metadata": {},
   "source": [
    "### Check the basic details of the dataset"
   ]
  },
  {
   "cell_type": "code",
   "execution_count": null,
   "id": "d7b9135b",
   "metadata": {},
   "outputs": [],
   "source": [
    "# Check the dimensions (number of rows and columns) of the dataset:\n",
    "\n",
    "data1.shape"
   ]
  },
  {
   "cell_type": "code",
   "execution_count": null,
   "id": "412f98fc",
   "metadata": {},
   "outputs": [],
   "source": [
    "# Get a summary of the dataset's columns, data types, and non-null values:\n",
    "\n",
    "data1.info()"
   ]
  },
  {
   "cell_type": "code",
   "execution_count": null,
   "id": "745befa6",
   "metadata": {},
   "outputs": [],
   "source": [
    "# Compute descriptive statistics of the dataset:\n",
    "\n",
    "data1.describe()"
   ]
  },
  {
   "cell_type": "code",
   "execution_count": null,
   "id": "dcb96bfe",
   "metadata": {},
   "outputs": [],
   "source": [
    "# Check for count of null values in each column:\n",
    "\n",
    "data1.isna().sum()"
   ]
  },
  {
   "cell_type": "code",
   "execution_count": null,
   "id": "ef733c32",
   "metadata": {},
   "outputs": [],
   "source": [
    "# Plot frequency graphs for columns with data types 'float' and 'int' in the dataset:\n",
    "\n",
    "freqgraph = data1.select_dtypes(include=['float', 'int'])\n",
    "freqgraph.hist(figsize=(8, 8))\n",
    "plt.show()"
   ]
  },
  {
   "cell_type": "code",
   "execution_count": null,
   "id": "b7b02212",
   "metadata": {},
   "outputs": [],
   "source": [
    "# Create frequency histogram for the \"Age\" column to analyze whether the data is normally distributed or skewed:\n",
    "# Histogram provide a visual representation of the distribution of values in the data:\n",
    "\n",
    "plt.figure(figsize=(4,3))\n",
    "plt.hist(data1['Age'])\n",
    "plt.xlabel('Age')\n",
    "plt.ylabel('Frequency')\n",
    "plt.title('Histogram of Age')\n",
    "plt.show()"
   ]
  },
  {
   "cell_type": "markdown",
   "id": "a497803e",
   "metadata": {},
   "source": [
    "### Fill in all the Missing Values present in all the columns in the dataset"
   ]
  },
  {
   "cell_type": "code",
   "execution_count": null,
   "id": "cf5a2a37",
   "metadata": {},
   "outputs": [],
   "source": [
    "# Filling the missing values in the \"Age\" column of the dataset with the median value of the column:\n",
    "\n",
    "data1['Age']=data1['Age'].fillna(data1['Age'].median())"
   ]
  },
  {
   "cell_type": "code",
   "execution_count": null,
   "id": "0c3892ab",
   "metadata": {},
   "outputs": [],
   "source": [
    "# Filling the missing values in categorical data columns('Cabin' & 'Embarked')with the mode value of each respective column:\n",
    "\n",
    "for col in ['Cabin', 'Embarked']:\n",
    "    data1[col] = data1[col].fillna(data1[col].mode()[0])"
   ]
  },
  {
   "cell_type": "code",
   "execution_count": null,
   "id": "9be6bd68",
   "metadata": {},
   "outputs": [],
   "source": [
    "# Again check for count of null values in each column after filling the missing values:\n",
    "\n",
    "data1.isna().sum()"
   ]
  },
  {
   "cell_type": "markdown",
   "id": "26da913d",
   "metadata": {},
   "source": [
    "### Check and Handle Outliers in at least 3 columns in the dataset"
   ]
  },
  {
   "cell_type": "code",
   "execution_count": null,
   "id": "ef9ae4a3",
   "metadata": {},
   "outputs": [],
   "source": [
    "# Create box plots for the numerical columns:\n",
    "\n",
    "num_cols = ['Survived', 'Pclass', 'Age', 'SibSp', 'Parch', 'Fare']\n",
    "\n",
    "for i in num_cols:\n",
    "    plt.figure(figsize=(5,2.92))\n",
    "    plt.boxplot(data1[i])\n",
    "    plt.title(i)"
   ]
  },
  {
   "cell_type": "code",
   "execution_count": null,
   "id": "4b47d858",
   "metadata": {},
   "outputs": [],
   "source": [
    "import warnings\n",
    "warnings.filterwarnings(\"ignore\", category=DeprecationWarning)"
   ]
  },
  {
   "cell_type": "code",
   "execution_count": null,
   "id": "11921f08",
   "metadata": {},
   "outputs": [],
   "source": [
    "# Calculate the quartiles Q1, Q2 (median), and Q3 of the 'Age' column :\n",
    "\n",
    "Q1 = np.percentile(data1['Age'],25,interpolation='midpoint')\n",
    "Q2 = np.percentile(data1['Age'],50,interpolation='midpoint')\n",
    "Q3 = np.percentile(data1['Age'],75,interpolation='midpoint')\n",
    "\n",
    "print('Q1 =',Q1)\n",
    "print('Q2 =',Q2)\n",
    "print('Q3 =',Q3)"
   ]
  },
  {
   "cell_type": "code",
   "execution_count": null,
   "id": "7720834e",
   "metadata": {},
   "outputs": [],
   "source": [
    "# Calculate the interquartile range (IQR):\n",
    "\n",
    "IQR = Q3 - Q1\n",
    "\n",
    "print (' IQR =', IQR)"
   ]
  },
  {
   "cell_type": "code",
   "execution_count": null,
   "id": "96c259a4",
   "metadata": {},
   "outputs": [],
   "source": [
    "# Define the upper and lower limits for outliers:\n",
    "\n",
    "up_lim = Q3 + 1.5*IQR\n",
    "low_lim = Q1 - 1.5*IQR\n",
    "\n",
    "print ('up_lim = ', up_lim)\n",
    "print ('low_lim = ', low_lim)"
   ]
  },
  {
   "cell_type": "code",
   "execution_count": null,
   "id": "9a7d4a68",
   "metadata": {},
   "outputs": [],
   "source": [
    "# Handling Outliers\n",
    "\n",
    "# Flooring And Capping operation is the quantile-based technique involves:\n",
    "# Flooring (setting a minimum value) for lower values based on a specific percentile,\n",
    "# Values below the lower percentile are replaced with the value of the lower percentile (flooring)\n",
    "# Capping (setting a maximum value) for higher values based on another specific percentile,\n",
    "# Values above the higher percentile are replaced with the value of the higer percentile (capping)."
   ]
  },
  {
   "cell_type": "code",
   "execution_count": null,
   "id": "11548593",
   "metadata": {},
   "outputs": [],
   "source": [
    "# Handle the outliers in the 'Age' column of the dataset:\n",
    "\n",
    "data1['Age'] = np.where(data1['Age'] > up_lim, up_lim, np.where(data1['Age'] < low_lim, low_lim, data1['Age']))"
   ]
  },
  {
   "cell_type": "code",
   "execution_count": null,
   "id": "c6a57b15",
   "metadata": {},
   "outputs": [],
   "source": [
    "plt.figure(figsize=(4, 3))\n",
    "plt.boxplot(data1['Age'])\n",
    "plt.title('Boxplot of Age with Handled Outliers')\n",
    "plt.show()"
   ]
  },
  {
   "cell_type": "code",
   "execution_count": null,
   "id": "ed3eab14",
   "metadata": {},
   "outputs": [],
   "source": [
    "# Calculate the quartiles Q1, Q2 (median), and Q3 of the 'SibSp' column :\n",
    "\n",
    "Q1 = np.percentile(data1['SibSp'],25,interpolation='midpoint')\n",
    "Q2 = np.percentile(data1['SibSp'],50,interpolation='midpoint')\n",
    "Q3 = np.percentile(data1['SibSp'],75,interpolation='midpoint')\n",
    "\n",
    "print('Q1 =',Q1)\n",
    "print('Q2 =',Q2)\n",
    "print('Q3 =',Q3)"
   ]
  },
  {
   "cell_type": "code",
   "execution_count": null,
   "id": "3b9c9daf",
   "metadata": {},
   "outputs": [],
   "source": [
    "# Calculate the interquartile range (IQR):\n",
    "\n",
    "IQR = Q3 - Q1\n",
    "\n",
    "print (' IQR =', IQR)"
   ]
  },
  {
   "cell_type": "code",
   "execution_count": null,
   "id": "78f2d4f3",
   "metadata": {},
   "outputs": [],
   "source": [
    "# Define the upper and lower limits for outliers:\n",
    "\n",
    "up_lim = Q3 + 1.5*IQR\n",
    "low_lim = Q1 - 1.5*IQR\n",
    "\n",
    "print ('up_lim = ', up_lim)\n",
    "print ('low_lim = ', low_lim)"
   ]
  },
  {
   "cell_type": "code",
   "execution_count": null,
   "id": "8d33be30",
   "metadata": {},
   "outputs": [],
   "source": [
    "# Handle the outliers in the 'SibSp' column of the dataset:\n",
    "\n",
    "data1['SibSp'] = np.where(data1['SibSp'] > up_lim, up_lim, np.where(data1['SibSp'] < low_lim, low_lim, data1['SibSp']))"
   ]
  },
  {
   "cell_type": "code",
   "execution_count": null,
   "id": "8cf49d5e",
   "metadata": {},
   "outputs": [],
   "source": [
    "plt.figure(figsize=(4, 3))\n",
    "plt.boxplot(data1['SibSp'])\n",
    "plt.title('Boxplot of SibSp with Handled Outliers')\n",
    "plt.show()"
   ]
  },
  {
   "cell_type": "code",
   "execution_count": null,
   "id": "1a7faa8b",
   "metadata": {},
   "outputs": [],
   "source": [
    "# Calculate the quartiles Q1, Q2 (median), and Q3 of the 'Fare' column :\n",
    "\n",
    "Q1 = np.percentile(data1['Fare'],25,interpolation='midpoint')\n",
    "Q2 = np.percentile(data1['Fare'],50,interpolation='midpoint')\n",
    "Q3 = np.percentile(data1['Fare'],75,interpolation='midpoint')\n",
    "\n",
    "print('Q1 =',Q1)\n",
    "print('Q2 =',Q2)\n",
    "print('Q3 =',Q3)"
   ]
  },
  {
   "cell_type": "code",
   "execution_count": null,
   "id": "45d0af30",
   "metadata": {},
   "outputs": [],
   "source": [
    "# Calculate the interquartile range (IQR):\n",
    "\n",
    "IQR = Q3 - Q1\n",
    "\n",
    "print (' IQR =', IQR)"
   ]
  },
  {
   "cell_type": "code",
   "execution_count": null,
   "id": "d2ccb7d8",
   "metadata": {},
   "outputs": [],
   "source": [
    "# Define the upper and lower limits for outliers:\n",
    "\n",
    "up_lim = Q3 + 1.5*IQR\n",
    "low_lim = Q1 - 1.5*IQR\n",
    "\n",
    "print ('up_lim = ', up_lim)\n",
    "print ('low_lim = ', low_lim)"
   ]
  },
  {
   "cell_type": "code",
   "execution_count": null,
   "id": "59dcee56",
   "metadata": {},
   "outputs": [],
   "source": [
    "# Handle the outliers in the 'Fare' column of the dataset:\n",
    "\n",
    "data1['Fare'] = np.where(data1['Fare'] > up_lim, up_lim, np.where(data1['Fare'] < low_lim, low_lim, data1['Fare']))"
   ]
  },
  {
   "cell_type": "code",
   "execution_count": null,
   "id": "c36d89d0",
   "metadata": {},
   "outputs": [],
   "source": [
    "plt.figure(figsize=(4, 3))\n",
    "plt.boxplot(data1['Fare'])\n",
    "plt.title('Boxplot of SibSp with Handled Outliers')\n",
    "plt.show()"
   ]
  },
  {
   "cell_type": "markdown",
   "id": "79a8d846",
   "metadata": {},
   "source": [
    "### Do Min Max Scaling on the Feature set (take ‘Survived’ as Target)"
   ]
  },
  {
   "cell_type": "code",
   "execution_count": null,
   "id": "69bdbebe",
   "metadata": {},
   "outputs": [],
   "source": [
    "# Import the MinMaxScaler from the sklearn.preprocessing:\n",
    "from sklearn.preprocessing import MinMaxScaler\n",
    "\n",
    "# Separate the Feature set (X) and Target variable (y):\n",
    "X = data1.drop('Survived', axis=1)\n",
    "y = data1['Survived']\n",
    "\n",
    "# Drop categorical columns before performing scaling on numerical features:\n",
    "X1 = X.drop(['Name','Sex','Ticket','Cabin','Embarked'],axis = 1)\n",
    "\n",
    "# Display the first few rows of remaining numerical columns:\n",
    "X1.head()"
   ]
  },
  {
   "cell_type": "code",
   "execution_count": null,
   "id": "e008bb34",
   "metadata": {},
   "outputs": [],
   "source": [
    "# Initialize the MinMaxScaler:\n",
    "min_max = MinMaxScaler()\n",
    "\n",
    "# Fit and transform the feature set:\n",
    "X_scaled = min_max.fit_transform(X1)\n",
    "\n",
    "# Print the scaled feature set:\n",
    "print('X_scaled:\\n', X_scaled)\n",
    "\n",
    "# when you perform Min-Max scaling using MinMaxScaler on your feature set X;\n",
    "# the resulting transformed data will be a NumPy array:\n",
    "print('Type(X_scaled):\\n',type(X_scaled))"
   ]
  },
  {
   "cell_type": "code",
   "execution_count": null,
   "id": "47dbfabf",
   "metadata": {},
   "outputs": [],
   "source": [
    "# Transform a NumPy array into a DataFrame:\n",
    "X_scaled = pd.DataFrame(X_scaled,columns = ['Pclass','Age','SibSp','Parch','Fare'])\n",
    "\n",
    "# Generate descriptive statistics for the DataFrame:\n",
    "X_scaled.describe()"
   ]
  },
  {
   "cell_type": "code",
   "execution_count": null,
   "id": "6dc853bc",
   "metadata": {},
   "outputs": [],
   "source": []
  }
 ],
 "metadata": {
  "kernelspec": {
   "display_name": "Python 3 (ipykernel)",
   "language": "python",
   "name": "python3"
  },
  "language_info": {
   "codemirror_mode": {
    "name": "ipython",
    "version": 3
   },
   "file_extension": ".py",
   "mimetype": "text/x-python",
   "name": "python",
   "nbconvert_exporter": "python",
   "pygments_lexer": "ipython3",
   "version": "3.10.9"
  }
 },
 "nbformat": 4,
 "nbformat_minor": 5
}
